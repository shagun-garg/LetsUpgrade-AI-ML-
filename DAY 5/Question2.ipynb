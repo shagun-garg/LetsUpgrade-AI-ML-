{
 "cells": [
  {
   "cell_type": "code",
   "execution_count": 1,
   "metadata": {},
   "outputs": [],
   "source": [
    "s='Lets'\n",
    "m='Upgrade'\n"
   ]
  },
  {
   "cell_type": "code",
   "execution_count": 2,
   "metadata": {},
   "outputs": [
    {
     "name": "stdout",
     "output_type": "stream",
     "text": [
      "LetsUpgrade\n"
     ]
    }
   ],
   "source": [
    "print(s+m)"
   ]
  },
  {
   "cell_type": "code",
   "execution_count": 14,
   "metadata": {},
   "outputs": [
    {
     "name": "stdout",
     "output_type": "stream",
     "text": [
      "lETS\n",
      "lets\n",
      "LETS\n",
      "True\n",
      "Lets\n",
      "4\n",
      "3\n",
      "1\n",
      "True\n",
      "False\n",
      "False\n",
      "3\n",
      "True\n",
      "Aaa bb ccccccc dd\n",
      "upgrade\n"
     ]
    }
   ],
   "source": [
    "print(s.swapcase())\n",
    "print(s.lower())\n",
    "print(s.upper())\n",
    "print(s.isalpha())\n",
    "print(s.replace('l','z'))\n",
    "print(len(s))\n",
    "print(s.find('s'))\n",
    "print(s.find('e'))\n",
    "print(s[1].islower())\n",
    "print(s[2].isupper())\n",
    "print(s[3].isspace())\n",
    "e='aaa bb ccccccc dd'\n",
    "print(e.count('a'))\n",
    "f='12345'\n",
    "print(f.isdigit())\n",
    "print(e.capitalize())\n",
    "print(m.casefold())"
   ]
  }
 ],
 "metadata": {
  "kernelspec": {
   "display_name": "Python 3",
   "language": "python",
   "name": "python3"
  },
  "language_info": {
   "codemirror_mode": {
    "name": "ipython",
    "version": 3
   },
   "file_extension": ".py",
   "mimetype": "text/x-python",
   "name": "python",
   "nbconvert_exporter": "python",
   "pygments_lexer": "ipython3",
   "version": "3.8.0"
  }
 },
 "nbformat": 4,
 "nbformat_minor": 4
}
