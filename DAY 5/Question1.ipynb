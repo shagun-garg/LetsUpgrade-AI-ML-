{
 "cells": [
  {
   "cell_type": "markdown",
   "metadata": {},
   "source": [
    "# First 20 non even prime natural numbers"
   ]
  },
  {
   "cell_type": "code",
   "execution_count": 10,
   "metadata": {},
   "outputs": [
    {
     "name": "stdout",
     "output_type": "stream",
     "text": [
      "1  prime no. is  3\n",
      "2  prime no. is  5\n",
      "3  prime no. is  7\n",
      "4  prime no. is  11\n",
      "5  prime no. is  13\n",
      "6  prime no. is  17\n",
      "7  prime no. is  19\n",
      "8  prime no. is  23\n",
      "9  prime no. is  29\n",
      "10  prime no. is  31\n",
      "11  prime no. is  37\n",
      "12  prime no. is  41\n",
      "13  prime no. is  43\n",
      "14  prime no. is  47\n",
      "15  prime no. is  53\n",
      "16  prime no. is  59\n",
      "17  prime no. is  61\n",
      "18  prime no. is  67\n",
      "19  prime no. is  71\n",
      "20  prime no. is  73\n"
     ]
    }
   ],
   "source": [
    "n=0\n",
    "prime=3\n",
    "while n<20 :\n",
    "    m=0\n",
    "    if (prime==1):\n",
    "        continue\n",
    "    elif (prime==2):\n",
    "        continue\n",
    "    else:\n",
    "        for x in range(2,prime):\n",
    "            if(prime % x==0):\n",
    "                m=1\n",
    "                break\n",
    "        if m==0:\n",
    "            n=n+1\n",
    "            print(n,' prime no. is ',prime)\n",
    "    prime=prime+1"
   ]
  }
 ],
 "metadata": {
  "kernelspec": {
   "display_name": "Python 3",
   "language": "python",
   "name": "python3"
  },
  "language_info": {
   "codemirror_mode": {
    "name": "ipython",
    "version": 3
   },
   "file_extension": ".py",
   "mimetype": "text/x-python",
   "name": "python",
   "nbconvert_exporter": "python",
   "pygments_lexer": "ipython3",
   "version": "3.8.0"
  }
 },
 "nbformat": 4,
 "nbformat_minor": 4
}
