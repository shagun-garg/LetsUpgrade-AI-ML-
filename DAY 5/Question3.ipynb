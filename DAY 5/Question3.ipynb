{
 "cells": [
  {
   "cell_type": "code",
   "execution_count": 4,
   "metadata": {},
   "outputs": [
    {
     "name": "stdout",
     "output_type": "stream",
     "text": [
      "enter string to check it palindrome or anagramshello olleh\n"
     ]
    }
   ],
   "source": [
    "x,y=input(\"enter string to check it palindrome or anagrams\").split()"
   ]
  },
  {
   "cell_type": "code",
   "execution_count": 10,
   "metadata": {},
   "outputs": [
    {
     "name": "stdout",
     "output_type": "stream",
     "text": [
      "Strings are Palindrome\n"
     ]
    }
   ],
   "source": [
    "# pallindrom\n",
    "y= y[::-1] \n",
    "if x==y:\n",
    "    print('Strings are Palindrome')\n",
    "else:\n",
    "    print('Strings are not Palindrome')"
   ]
  },
  {
   "cell_type": "code",
   "execution_count": 14,
   "metadata": {},
   "outputs": [
    {
     "name": "stdout",
     "output_type": "stream",
     "text": [
      "strings are Anagram\n"
     ]
    }
   ],
   "source": [
    "if sorted(x)==sorted(y):\n",
    "    print('strings are Anagram')\n",
    "else:\n",
    "    print('Strings are not Anagram')"
   ]
  }
 ],
 "metadata": {
  "kernelspec": {
   "display_name": "Python 3",
   "language": "python",
   "name": "python3"
  },
  "language_info": {
   "codemirror_mode": {
    "name": "ipython",
    "version": 3
   },
   "file_extension": ".py",
   "mimetype": "text/x-python",
   "name": "python",
   "nbconvert_exporter": "python",
   "pygments_lexer": "ipython3",
   "version": "3.8.0"
  }
 },
 "nbformat": 4,
 "nbformat_minor": 4
}
