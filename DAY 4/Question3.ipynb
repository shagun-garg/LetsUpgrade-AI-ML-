{
 "cells": [
  {
   "cell_type": "code",
   "execution_count": 3,
   "metadata": {},
   "outputs": [
    {
     "name": "stdout",
     "output_type": "stream",
     "text": [
      "enter two numbers to apply oprations\n",
      "enter first  number 25\n",
      "enter second number10\n"
     ]
    }
   ],
   "source": [
    "print('enter two numbers to apply oprations')\n",
    "x= int(input(\"enter first  number \"))\n",
    "y= int(input(\"enter second number\"))"
   ]
  },
  {
   "cell_type": "code",
   "execution_count": 6,
   "metadata": {},
   "outputs": [
    {
     "name": "stdout",
     "output_type": "stream",
     "text": [
      "x-y is less than 25 2.5\n"
     ]
    }
   ],
   "source": [
    "if x-y >25:\n",
    "    print('x-y is greater than 25',x*y)\n",
    "else:\n",
    "    print('x-y is less than 25',x/y)"
   ]
  }
 ],
 "metadata": {
  "kernelspec": {
   "display_name": "Python 3",
   "language": "python",
   "name": "python3"
  },
  "language_info": {
   "codemirror_mode": {
    "name": "ipython",
    "version": 3
   },
   "file_extension": ".py",
   "mimetype": "text/x-python",
   "name": "python",
   "nbconvert_exporter": "python",
   "pygments_lexer": "ipython3",
   "version": "3.8.0"
  }
 },
 "nbformat": 4,
 "nbformat_minor": 4
}
