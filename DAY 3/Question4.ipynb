{
 "cells": [
  {
   "cell_type": "markdown",
   "metadata": {},
   "source": [
    "# Program to Swap Numbers without using third variable"
   ]
  },
  {
   "cell_type": "code",
   "execution_count": 3,
   "metadata": {},
   "outputs": [
    {
     "name": "stdout",
     "output_type": "stream",
     "text": [
      "Enter numbers to swap \n",
      "Enter first number 2\n",
      "Enter Second number 3\n"
     ]
    }
   ],
   "source": [
    "print('Enter numbers to swap ')\n",
    "a=int(input('Enter first number '))\n",
    "b=int(input('Enter Second number '))"
   ]
  },
  {
   "cell_type": "code",
   "execution_count": 4,
   "metadata": {},
   "outputs": [],
   "source": [
    "a=a+b\n",
    "b=a-b\n",
    "a=a-b"
   ]
  },
  {
   "cell_type": "code",
   "execution_count": 5,
   "metadata": {},
   "outputs": [
    {
     "name": "stdout",
     "output_type": "stream",
     "text": [
      "Numbers after swaping\n",
      "First number =  3\n",
      "Second number =  2\n"
     ]
    }
   ],
   "source": [
    "print('Numbers after swaping')\n",
    "print('First number = ',a)\n",
    "print('Second number = ',b)"
   ]
  }
 ],
 "metadata": {
  "kernelspec": {
   "display_name": "Python 3",
   "language": "python",
   "name": "python3"
  },
  "language_info": {
   "codemirror_mode": {
    "name": "ipython",
    "version": 3
   },
   "file_extension": ".py",
   "mimetype": "text/x-python",
   "name": "python",
   "nbconvert_exporter": "python",
   "pygments_lexer": "ipython3",
   "version": "3.7.6"
  }
 },
 "nbformat": 4,
 "nbformat_minor": 4
}
