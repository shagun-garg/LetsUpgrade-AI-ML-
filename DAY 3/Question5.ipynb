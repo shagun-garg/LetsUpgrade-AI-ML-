{
 "cells": [
  {
   "cell_type": "markdown",
   "metadata": {},
   "source": [
    "# Program to convert Farenheit into celsius and kelvin\n"
   ]
  },
  {
   "cell_type": "code",
   "execution_count": 2,
   "metadata": {},
   "outputs": [
    {
     "name": "stdout",
     "output_type": "stream",
     "text": [
      "Enter temp in fatrenhiet to convert it into clecius and kelvin = 98\n"
     ]
    }
   ],
   "source": [
    "a=float(input('Enter temp in fatrenhiet to convert it into clecius and kelvin = '))"
   ]
  },
  {
   "cell_type": "code",
   "execution_count": 28,
   "metadata": {},
   "outputs": [
    {
     "name": "stdout",
     "output_type": "stream",
     "text": [
      "Temprature in celsius = 36.67\n",
      "Temprature in Kelvin =  371.17\n"
     ]
    }
   ],
   "source": [
    "s=float((a-32)*5/9)\n",
    "print('Temprature in celsius = {Temp:.2f}'.format(Temp=s))\n",
    "print('Temprature in Kelvin = ', a+273.17)"
   ]
  }
 ],
 "metadata": {
  "kernelspec": {
   "display_name": "Python 3",
   "language": "python",
   "name": "python3"
  },
  "language_info": {
   "codemirror_mode": {
    "name": "ipython",
    "version": 3
   },
   "file_extension": ".py",
   "mimetype": "text/x-python",
   "name": "python",
   "nbconvert_exporter": "python",
   "pygments_lexer": "ipython3",
   "version": "3.7.6"
  }
 },
 "nbformat": 4,
 "nbformat_minor": 4
}
