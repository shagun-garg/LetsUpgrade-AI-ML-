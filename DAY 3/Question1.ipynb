{
 "cells": [
  {
   "cell_type": "markdown",
   "metadata": {},
   "source": [
    "# Program to subtract to complex numbers"
   ]
  },
  {
   "cell_type": "code",
   "execution_count": 2,
   "metadata": {},
   "outputs": [
    {
     "name": "stdout",
     "output_type": "stream",
     "text": [
      "Enter two complex no. in the format a+bj\n",
      "enter first complex no.2+10j\n",
      "enter second complex no.3-20j\n"
     ]
    }
   ],
   "source": [
    "print('Enter two complex no. in the format a+bj')\n",
    "a=complex(input('enter first complex no.'))\n",
    "b=complex(input('enter second complex no.'))\n"
   ]
  },
  {
   "cell_type": "code",
   "execution_count": 3,
   "metadata": {},
   "outputs": [],
   "source": [
    "if a.real>b.real :\n",
    "    l=a\n",
    "    s=b\n",
    "else:\n",
    "    l=b\n",
    "    s=a"
   ]
  },
  {
   "cell_type": "code",
   "execution_count": 5,
   "metadata": {},
   "outputs": [
    {
     "name": "stdout",
     "output_type": "stream",
     "text": [
      "after subtracting result = (1-30j)\n"
     ]
    }
   ],
   "source": [
    "print(\"after subtracting result =\",l-s)"
   ]
  }
 ],
 "metadata": {
  "kernelspec": {
   "display_name": "Python 3",
   "language": "python",
   "name": "python3"
  },
  "language_info": {
   "codemirror_mode": {
    "name": "ipython",
    "version": 3
   },
   "file_extension": ".py",
   "mimetype": "text/x-python",
   "name": "python",
   "nbconvert_exporter": "python",
   "pygments_lexer": "ipython3",
   "version": "3.7.6"
  }
 },
 "nbformat": 4,
 "nbformat_minor": 4
}
