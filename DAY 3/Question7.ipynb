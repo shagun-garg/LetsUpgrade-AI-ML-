{
 "cells": [
  {
   "cell_type": "markdown",
   "metadata": {},
   "source": [
    "# Steps to create Git hub Link\n",
    "\n",
    "## Steps are:- \n",
    "1. Create a Git hub account if you are not having any.\n",
    "2. Create a repository with repository to public mode withuot intialize with .Readme file.\n",
    "3. Repository name must be \"LetsUpgrade AI-ML\"\n",
    "4. After creating it, Upload folder in which your Day assingnment are saved by dragging it.\n",
    "5. Now to that folder and copy the link and share it with LetsUpgrade Team through google form.\n",
    "\n",
    "## Above are the Steps to create and send assingments link."
   ]
  },
  {
   "cell_type": "code",
   "execution_count": null,
   "metadata": {},
   "outputs": [],
   "source": []
  }
 ],
 "metadata": {
  "kernelspec": {
   "display_name": "Python 3",
   "language": "python",
   "name": "python3"
  },
  "language_info": {
   "codemirror_mode": {
    "name": "ipython",
    "version": 3
   },
   "file_extension": ".py",
   "mimetype": "text/x-python",
   "name": "python",
   "nbconvert_exporter": "python",
   "pygments_lexer": "ipython3",
   "version": "3.8.0"
  }
 },
 "nbformat": 4,
 "nbformat_minor": 4
}
